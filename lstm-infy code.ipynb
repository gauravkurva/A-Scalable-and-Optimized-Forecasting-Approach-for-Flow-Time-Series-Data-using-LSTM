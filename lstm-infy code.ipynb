{
 "cells": [
  {
   "cell_type": "code",
   "execution_count": 2,
   "id": "0a585086-d9a6-456a-a68c-b0103f8c26b1",
   "metadata": {},
   "outputs": [],
   "source": [
    "import numpy as np # linear algebra\n",
    "import pandas as pd # data processing, CSV file I/O (e.g. pd.read_csv)\n",
    "import matplotlib.pyplot as plt\n",
    "%matplotlib inline\n",
    "#from pandas import datetime\n",
    "import math, time\n",
    "import itertools\n",
    "from sklearn import preprocessing\n",
    "import datetime\n",
    "from operator import itemgetter\n",
    "from sklearn.preprocessing import MinMaxScaler\n",
    "from sklearn.metrics import mean_squared_error\n",
    "from math import sqrt\n",
    "from keras.models import Sequential\n",
    "#from keras.layers.core import Dense, Dropout, Activation\n",
    "#from keras.layers.recurrent import LSTM\n",
    "from keras.layers import Dense, Dropout, Activation, LSTM\n",
    "from keras.models import load_model\n",
    "import keras\n",
    "import h5py\n",
    "import requests\n",
    "import os"
   ]
  },
  {
   "cell_type": "code",
   "execution_count": 60,
   "id": "06ba0316-cef1-4c1d-99d2-3c8ce51d4c57",
   "metadata": {},
   "outputs": [
    {
     "data": {
      "text/html": [
       "<div>\n",
       "<style scoped>\n",
       "    .dataframe tbody tr th:only-of-type {\n",
       "        vertical-align: middle;\n",
       "    }\n",
       "\n",
       "    .dataframe tbody tr th {\n",
       "        vertical-align: top;\n",
       "    }\n",
       "\n",
       "    .dataframe thead th {\n",
       "        text-align: right;\n",
       "    }\n",
       "</style>\n",
       "<table border=\"1\" class=\"dataframe\">\n",
       "  <thead>\n",
       "    <tr style=\"text-align: right;\">\n",
       "      <th></th>\n",
       "      <th>symbol</th>\n",
       "      <th>open</th>\n",
       "      <th>close</th>\n",
       "      <th>low</th>\n",
       "      <th>high</th>\n",
       "      <th>volume</th>\n",
       "    </tr>\n",
       "    <tr>\n",
       "      <th>date</th>\n",
       "      <th></th>\n",
       "      <th></th>\n",
       "      <th></th>\n",
       "      <th></th>\n",
       "      <th></th>\n",
       "      <th></th>\n",
       "    </tr>\n",
       "  </thead>\n",
       "  <tbody>\n",
       "    <tr>\n",
       "      <th>1/3/2000</th>\n",
       "      <td>INFOSYSTCH</td>\n",
       "      <td>15625.00</td>\n",
       "      <td>15625.20</td>\n",
       "      <td>15625.00</td>\n",
       "      <td>15625.20</td>\n",
       "      <td>5137</td>\n",
       "    </tr>\n",
       "    <tr>\n",
       "      <th>1/4/2000</th>\n",
       "      <td>INFOSYSTCH</td>\n",
       "      <td>16800.00</td>\n",
       "      <td>16855.90</td>\n",
       "      <td>16253.00</td>\n",
       "      <td>16875.25</td>\n",
       "      <td>56186</td>\n",
       "    </tr>\n",
       "    <tr>\n",
       "      <th>1/5/2000</th>\n",
       "      <td>INFOSYSTCH</td>\n",
       "      <td>15701.00</td>\n",
       "      <td>15507.45</td>\n",
       "      <td>15507.45</td>\n",
       "      <td>16250.00</td>\n",
       "      <td>164605</td>\n",
       "    </tr>\n",
       "    <tr>\n",
       "      <th>1/6/2000</th>\n",
       "      <td>INFOSYSTCH</td>\n",
       "      <td>15256.65</td>\n",
       "      <td>14266.85</td>\n",
       "      <td>14266.85</td>\n",
       "      <td>15300.00</td>\n",
       "      <td>81997</td>\n",
       "    </tr>\n",
       "    <tr>\n",
       "      <th>1/7/2000</th>\n",
       "      <td>INFOSYSTCH</td>\n",
       "      <td>13125.50</td>\n",
       "      <td>13125.50</td>\n",
       "      <td>13125.50</td>\n",
       "      <td>13125.50</td>\n",
       "      <td>7589</td>\n",
       "    </tr>\n",
       "  </tbody>\n",
       "</table>\n",
       "</div>"
      ],
      "text/plain": [
       "              symbol      open     close       low      high  volume\n",
       "date                                                                \n",
       "1/3/2000  INFOSYSTCH  15625.00  15625.20  15625.00  15625.20    5137\n",
       "1/4/2000  INFOSYSTCH  16800.00  16855.90  16253.00  16875.25   56186\n",
       "1/5/2000  INFOSYSTCH  15701.00  15507.45  15507.45  16250.00  164605\n",
       "1/6/2000  INFOSYSTCH  15256.65  14266.85  14266.85  15300.00   81997\n",
       "1/7/2000  INFOSYSTCH  13125.50  13125.50  13125.50  13125.50    7589"
      ]
     },
     "execution_count": 60,
     "metadata": {},
     "output_type": "execute_result"
    }
   ],
   "source": [
    "data_df =  pd.read_csv(\"d:/python/data-g/INFY.csv\", index_col = 0)\n",
    "data_df.head()"
   ]
  },
  {
   "cell_type": "code",
   "execution_count": 96,
   "id": "94d1226f-997e-45f3-9acb-1a35436797da",
   "metadata": {},
   "outputs": [],
   "source": [
    "#df2 = pd.read_csv(\"d:/python/data-g/fundamentals.csv\")\n",
    "#df2.head()"
   ]
  },
  {
   "cell_type": "code",
   "execution_count": 61,
   "id": "8dd6ec06-bb8d-4779-8d7b-6de4366e805e",
   "metadata": {},
   "outputs": [
    {
     "data": {
      "text/html": [
       "<div>\n",
       "<style scoped>\n",
       "    .dataframe tbody tr th:only-of-type {\n",
       "        vertical-align: middle;\n",
       "    }\n",
       "\n",
       "    .dataframe tbody tr th {\n",
       "        vertical-align: top;\n",
       "    }\n",
       "\n",
       "    .dataframe thead th {\n",
       "        text-align: right;\n",
       "    }\n",
       "</style>\n",
       "<table border=\"1\" class=\"dataframe\">\n",
       "  <thead>\n",
       "    <tr style=\"text-align: right;\">\n",
       "      <th></th>\n",
       "      <th>open</th>\n",
       "      <th>close</th>\n",
       "      <th>low</th>\n",
       "      <th>high</th>\n",
       "      <th>volume</th>\n",
       "    </tr>\n",
       "    <tr>\n",
       "      <th>date</th>\n",
       "      <th></th>\n",
       "      <th></th>\n",
       "      <th></th>\n",
       "      <th></th>\n",
       "      <th></th>\n",
       "    </tr>\n",
       "  </thead>\n",
       "  <tbody>\n",
       "    <tr>\n",
       "      <th>1/3/2000</th>\n",
       "      <td>15625.00</td>\n",
       "      <td>15625.20</td>\n",
       "      <td>15625.00</td>\n",
       "      <td>15625.20</td>\n",
       "      <td>5137</td>\n",
       "    </tr>\n",
       "    <tr>\n",
       "      <th>1/4/2000</th>\n",
       "      <td>16800.00</td>\n",
       "      <td>16855.90</td>\n",
       "      <td>16253.00</td>\n",
       "      <td>16875.25</td>\n",
       "      <td>56186</td>\n",
       "    </tr>\n",
       "    <tr>\n",
       "      <th>1/5/2000</th>\n",
       "      <td>15701.00</td>\n",
       "      <td>15507.45</td>\n",
       "      <td>15507.45</td>\n",
       "      <td>16250.00</td>\n",
       "      <td>164605</td>\n",
       "    </tr>\n",
       "    <tr>\n",
       "      <th>1/6/2000</th>\n",
       "      <td>15256.65</td>\n",
       "      <td>14266.85</td>\n",
       "      <td>14266.85</td>\n",
       "      <td>15300.00</td>\n",
       "      <td>81997</td>\n",
       "    </tr>\n",
       "    <tr>\n",
       "      <th>1/7/2000</th>\n",
       "      <td>13125.50</td>\n",
       "      <td>13125.50</td>\n",
       "      <td>13125.50</td>\n",
       "      <td>13125.50</td>\n",
       "      <td>7589</td>\n",
       "    </tr>\n",
       "  </tbody>\n",
       "</table>\n",
       "</div>"
      ],
      "text/plain": [
       "              open     close       low      high  volume\n",
       "date                                                    \n",
       "1/3/2000  15625.00  15625.20  15625.00  15625.20    5137\n",
       "1/4/2000  16800.00  16855.90  16253.00  16875.25   56186\n",
       "1/5/2000  15701.00  15507.45  15507.45  16250.00  164605\n",
       "1/6/2000  15256.65  14266.85  14266.85  15300.00   81997\n",
       "1/7/2000  13125.50  13125.50  13125.50  13125.50    7589"
      ]
     },
     "execution_count": 61,
     "metadata": {},
     "output_type": "execute_result"
    }
   ],
   "source": [
    "data_df = data_df[data_df.symbol == 'INFOSYSTCH']\n",
    "data_df.drop('symbol',axis='columns',inplace=True)\n",
    "data_df.head()"
   ]
  },
  {
   "cell_type": "code",
   "execution_count": 62,
   "id": "1bd524a2-b965-4cb8-b057-f7ded83ca59b",
   "metadata": {},
   "outputs": [
    {
     "data": {
      "text/plain": [
       "(2871, 5)"
      ]
     },
     "execution_count": 62,
     "metadata": {},
     "output_type": "execute_result"
    }
   ],
   "source": [
    "data_df.shape"
   ]
  },
  {
   "cell_type": "code",
   "execution_count": 63,
   "id": "cc1facaf-5fd0-4f2d-bd6b-a41df91277e6",
   "metadata": {},
   "outputs": [
    {
     "data": {
      "text/html": [
       "<div>\n",
       "<style scoped>\n",
       "    .dataframe tbody tr th:only-of-type {\n",
       "        vertical-align: middle;\n",
       "    }\n",
       "\n",
       "    .dataframe tbody tr th {\n",
       "        vertical-align: top;\n",
       "    }\n",
       "\n",
       "    .dataframe thead th {\n",
       "        text-align: right;\n",
       "    }\n",
       "</style>\n",
       "<table border=\"1\" class=\"dataframe\">\n",
       "  <thead>\n",
       "    <tr style=\"text-align: right;\">\n",
       "      <th></th>\n",
       "      <th>open</th>\n",
       "      <th>close</th>\n",
       "      <th>low</th>\n",
       "      <th>high</th>\n",
       "      <th>volume</th>\n",
       "    </tr>\n",
       "    <tr>\n",
       "      <th>date</th>\n",
       "      <th></th>\n",
       "      <th></th>\n",
       "      <th></th>\n",
       "      <th></th>\n",
       "      <th></th>\n",
       "    </tr>\n",
       "  </thead>\n",
       "  <tbody>\n",
       "    <tr>\n",
       "      <th>6/22/2011</th>\n",
       "      <td>2753.00</td>\n",
       "      <td>2755.05</td>\n",
       "      <td>2742.10</td>\n",
       "      <td>2781.70</td>\n",
       "      <td>703125</td>\n",
       "    </tr>\n",
       "    <tr>\n",
       "      <th>6/23/2011</th>\n",
       "      <td>2750.00</td>\n",
       "      <td>2779.10</td>\n",
       "      <td>2735.50</td>\n",
       "      <td>2789.10</td>\n",
       "      <td>519846</td>\n",
       "    </tr>\n",
       "    <tr>\n",
       "      <th>6/24/2011</th>\n",
       "      <td>2791.00</td>\n",
       "      <td>2859.95</td>\n",
       "      <td>2791.00</td>\n",
       "      <td>2877.70</td>\n",
       "      <td>1402411</td>\n",
       "    </tr>\n",
       "    <tr>\n",
       "      <th>6/27/2011</th>\n",
       "      <td>2831.65</td>\n",
       "      <td>2871.05</td>\n",
       "      <td>2820.25</td>\n",
       "      <td>2923.00</td>\n",
       "      <td>1340537</td>\n",
       "    </tr>\n",
       "    <tr>\n",
       "      <th>6/28/2011</th>\n",
       "      <td>2870.05</td>\n",
       "      <td>2865.30</td>\n",
       "      <td>2843.80</td>\n",
       "      <td>2876.85</td>\n",
       "      <td>560849</td>\n",
       "    </tr>\n",
       "  </tbody>\n",
       "</table>\n",
       "</div>"
      ],
      "text/plain": [
       "              open    close      low     high   volume\n",
       "date                                                  \n",
       "6/22/2011  2753.00  2755.05  2742.10  2781.70   703125\n",
       "6/23/2011  2750.00  2779.10  2735.50  2789.10   519846\n",
       "6/24/2011  2791.00  2859.95  2791.00  2877.70  1402411\n",
       "6/27/2011  2831.65  2871.05  2820.25  2923.00  1340537\n",
       "6/28/2011  2870.05  2865.30  2843.80  2876.85   560849"
      ]
     },
     "execution_count": 63,
     "metadata": {},
     "output_type": "execute_result"
    }
   ],
   "source": [
    "data_df.tail()"
   ]
  },
  {
   "cell_type": "code",
   "execution_count": 65,
   "id": "646a23c4-0a77-4307-aae1-82b7dd96f80e",
   "metadata": {},
   "outputs": [
    {
     "data": {
      "image/png": "[encoded data removed]",
      "text/plain": [
       "<Figure size 640x480 with 1 Axes>"
      ]
     },
     "metadata": {},
     "output_type": "display_data"
    }
   ],
   "source": [
    "plt.plot(data_df['close'])\n",
    "plt.show()"
   ]
  },
  {
   "cell_type": "code",
   "execution_count": 66,
   "id": "2d56d549-6914-4352-8483-07843317c5e1",
   "metadata": {},
   "outputs": [
    {
     "data": {
      "text/html": [
       "<div>\n",
       "<style scoped>\n",
       "    .dataframe tbody tr th:only-of-type {\n",
       "        vertical-align: middle;\n",
       "    }\n",
       "\n",
       "    .dataframe tbody tr th {\n",
       "        vertical-align: top;\n",
       "    }\n",
       "\n",
       "    .dataframe thead th {\n",
       "        text-align: right;\n",
       "    }\n",
       "</style>\n",
       "<table border=\"1\" class=\"dataframe\">\n",
       "  <thead>\n",
       "    <tr style=\"text-align: right;\">\n",
       "      <th></th>\n",
       "      <th>open</th>\n",
       "      <th>close</th>\n",
       "      <th>low</th>\n",
       "      <th>high</th>\n",
       "      <th>volume</th>\n",
       "      <th>date</th>\n",
       "    </tr>\n",
       "    <tr>\n",
       "      <th>date</th>\n",
       "      <th></th>\n",
       "      <th></th>\n",
       "      <th></th>\n",
       "      <th></th>\n",
       "      <th></th>\n",
       "      <th></th>\n",
       "    </tr>\n",
       "  </thead>\n",
       "  <tbody>\n",
       "    <tr>\n",
       "      <th>1/3/2000</th>\n",
       "      <td>15625.00</td>\n",
       "      <td>15625.20</td>\n",
       "      <td>15625.00</td>\n",
       "      <td>15625.20</td>\n",
       "      <td>5137</td>\n",
       "      <td>1/3/2000</td>\n",
       "    </tr>\n",
       "    <tr>\n",
       "      <th>1/4/2000</th>\n",
       "      <td>16800.00</td>\n",
       "      <td>16855.90</td>\n",
       "      <td>16253.00</td>\n",
       "      <td>16875.25</td>\n",
       "      <td>56186</td>\n",
       "      <td>1/4/2000</td>\n",
       "    </tr>\n",
       "    <tr>\n",
       "      <th>1/5/2000</th>\n",
       "      <td>15701.00</td>\n",
       "      <td>15507.45</td>\n",
       "      <td>15507.45</td>\n",
       "      <td>16250.00</td>\n",
       "      <td>164605</td>\n",
       "      <td>1/5/2000</td>\n",
       "    </tr>\n",
       "    <tr>\n",
       "      <th>1/6/2000</th>\n",
       "      <td>15256.65</td>\n",
       "      <td>14266.85</td>\n",
       "      <td>14266.85</td>\n",
       "      <td>15300.00</td>\n",
       "      <td>81997</td>\n",
       "      <td>1/6/2000</td>\n",
       "    </tr>\n",
       "    <tr>\n",
       "      <th>1/7/2000</th>\n",
       "      <td>13125.50</td>\n",
       "      <td>13125.50</td>\n",
       "      <td>13125.50</td>\n",
       "      <td>13125.50</td>\n",
       "      <td>7589</td>\n",
       "      <td>1/7/2000</td>\n",
       "    </tr>\n",
       "  </tbody>\n",
       "</table>\n",
       "</div>"
      ],
      "text/plain": [
       "              open     close       low      high  volume      date\n",
       "date                                                              \n",
       "1/3/2000  15625.00  15625.20  15625.00  15625.20    5137  1/3/2000\n",
       "1/4/2000  16800.00  16855.90  16253.00  16875.25   56186  1/4/2000\n",
       "1/5/2000  15701.00  15507.45  15507.45  16250.00  164605  1/5/2000\n",
       "1/6/2000  15256.65  14266.85  14266.85  15300.00   81997  1/6/2000\n",
       "1/7/2000  13125.50  13125.50  13125.50  13125.50    7589  1/7/2000"
      ]
     },
     "execution_count": 66,
     "metadata": {},
     "output_type": "execute_result"
    }
   ],
   "source": [
    "data_df['date'] = data_df.index\n",
    "data_df.head()"
   ]
  },
  {
   "cell_type": "code",
   "execution_count": 67,
   "id": "1e02006a-b642-47ec-9170-abec66e427dc",
   "metadata": {},
   "outputs": [],
   "source": [
    "data_df['date'] = pd.to_datetime(data_df['date'])"
   ]
  },
  {
   "cell_type": "code",
   "execution_count": 69,
   "id": "3dd8849c-bbb7-4e7a-ac54-d20f7ae040fa",
   "metadata": {},
   "outputs": [
    {
     "data": {
      "text/html": [
       "<div>\n",
       "<style scoped>\n",
       "    .dataframe tbody tr th:only-of-type {\n",
       "        vertical-align: middle;\n",
       "    }\n",
       "\n",
       "    .dataframe tbody tr th {\n",
       "        vertical-align: top;\n",
       "    }\n",
       "\n",
       "    .dataframe thead th {\n",
       "        text-align: right;\n",
       "    }\n",
       "</style>\n",
       "<table border=\"1\" class=\"dataframe\">\n",
       "  <thead>\n",
       "    <tr style=\"text-align: right;\">\n",
       "      <th></th>\n",
       "      <th>open</th>\n",
       "      <th>close</th>\n",
       "      <th>low</th>\n",
       "      <th>high</th>\n",
       "      <th>volume</th>\n",
       "      <th>date</th>\n",
       "    </tr>\n",
       "    <tr>\n",
       "      <th>date</th>\n",
       "      <th></th>\n",
       "      <th></th>\n",
       "      <th></th>\n",
       "      <th></th>\n",
       "      <th></th>\n",
       "      <th></th>\n",
       "    </tr>\n",
       "  </thead>\n",
       "  <tbody>\n",
       "    <tr>\n",
       "      <th>1/3/2000</th>\n",
       "      <td>15625.00</td>\n",
       "      <td>15625.20</td>\n",
       "      <td>15625.00</td>\n",
       "      <td>15625.20</td>\n",
       "      <td>5137</td>\n",
       "      <td>2000-01-03</td>\n",
       "    </tr>\n",
       "    <tr>\n",
       "      <th>1/4/2000</th>\n",
       "      <td>16800.00</td>\n",
       "      <td>16855.90</td>\n",
       "      <td>16253.00</td>\n",
       "      <td>16875.25</td>\n",
       "      <td>56186</td>\n",
       "      <td>2000-01-04</td>\n",
       "    </tr>\n",
       "    <tr>\n",
       "      <th>1/5/2000</th>\n",
       "      <td>15701.00</td>\n",
       "      <td>15507.45</td>\n",
       "      <td>15507.45</td>\n",
       "      <td>16250.00</td>\n",
       "      <td>164605</td>\n",
       "      <td>2000-01-05</td>\n",
       "    </tr>\n",
       "    <tr>\n",
       "      <th>1/6/2000</th>\n",
       "      <td>15256.65</td>\n",
       "      <td>14266.85</td>\n",
       "      <td>14266.85</td>\n",
       "      <td>15300.00</td>\n",
       "      <td>81997</td>\n",
       "      <td>2000-01-06</td>\n",
       "    </tr>\n",
       "    <tr>\n",
       "      <th>1/7/2000</th>\n",
       "      <td>13125.50</td>\n",
       "      <td>13125.50</td>\n",
       "      <td>13125.50</td>\n",
       "      <td>13125.50</td>\n",
       "      <td>7589</td>\n",
       "      <td>2000-01-07</td>\n",
       "    </tr>\n",
       "  </tbody>\n",
       "</table>\n",
       "</div>"
      ],
      "text/plain": [
       "              open     close       low      high  volume       date\n",
       "date                                                               \n",
       "1/3/2000  15625.00  15625.20  15625.00  15625.20    5137 2000-01-03\n",
       "1/4/2000  16800.00  16855.90  16253.00  16875.25   56186 2000-01-04\n",
       "1/5/2000  15701.00  15507.45  15507.45  16250.00  164605 2000-01-05\n",
       "1/6/2000  15256.65  14266.85  14266.85  15300.00   81997 2000-01-06\n",
       "1/7/2000  13125.50  13125.50  13125.50  13125.50    7589 2000-01-07"
      ]
     },
     "execution_count": 69,
     "metadata": {},
     "output_type": "execute_result"
    }
   ],
   "source": [
    "data_df.head()"
   ]
  },
  {
   "cell_type": "code",
   "execution_count": 70,
   "id": "8f68b141-d6ea-405b-8287-aa20c7a40788",
   "metadata": {},
   "outputs": [],
   "source": [
    "min_max_scaler = preprocessing.MinMaxScaler(feature_range=(0, 1))\n",
    "dataset = min_max_scaler.fit_transform(data_df['close'].values.reshape(-1, 1))"
   ]
  },
  {
   "cell_type": "code",
   "execution_count": 71,
   "id": "e155911c-690d-416e-bf43-338373f40a47",
   "metadata": {},
   "outputs": [
    {
     "data": {
      "text/plain": [
       "array([[0.92187817],\n",
       "       [1.        ],\n",
       "       [0.91440369],\n",
       "       [0.83565344],\n",
       "       [0.76320333],\n",
       "       [0.80330845],\n",
       "       [0.73344823],\n",
       "       [0.76015958],\n",
       "       [0.69751041],\n",
       "       [0.70295678]])"
      ]
     },
     "execution_count": 71,
     "metadata": {},
     "output_type": "execute_result"
    }
   ],
   "source": [
    "dataset[0:10]"
   ]
  },
  {
   "cell_type": "code",
   "execution_count": 83,
   "id": "0a748fa8-2616-4455-bb7a-9302e0905ee2",
   "metadata": {},
   "outputs": [
    {
     "name": "stdout",
     "output_type": "stream",
     "text": [
      "1722 1149\n"
     ]
    }
   ],
   "source": [
    "# split into train and test sets\n",
    "train_size = int(len(dataset) * 0.6)\n",
    "test_size = len(dataset) - train_size\n",
    "train, test = dataset[0:train_size,:], dataset[train_size:len(dataset),:]\n",
    "print(len(train), len(test))"
   ]
  },
  {
   "cell_type": "code",
   "execution_count": 84,
   "id": "391a1bc6-4f1c-40c1-9a1d-9219a4944e1c",
   "metadata": {},
   "outputs": [
    {
     "name": "stdout",
     "output_type": "stream",
     "text": [
      "2871\n",
      "2871\n"
     ]
    }
   ],
   "source": [
    "print(len(data_df))\n",
    "print(1722 + 1149)"
   ]
  },
  {
   "cell_type": "code",
   "execution_count": 85,
   "id": "fd10556d-6df0-4a4f-ad82-07f40e5269ac",
   "metadata": {},
   "outputs": [],
   "source": [
    "def create_dataset(dataset, look_back=15):\n",
    "    dataX, dataY = [], []\n",
    "    for i in range(len(dataset)-look_back-1):\n",
    "        a = dataset[i:(i+look_back), 0]\n",
    "        dataX.append(a)\n",
    "        dataY.append(dataset[i + look_back, 0])\n",
    "    return np.array(dataX), np.array(dataY)"
   ]
  },
  {
   "cell_type": "code",
   "execution_count": 86,
   "id": "14db4b4b-b154-4dcc-9245-31c9a6001319",
   "metadata": {},
   "outputs": [],
   "source": [
    "x_train, y_train = create_dataset(train, look_back=15)\n",
    "x_test, y_test = create_dataset(test, look_back=15)"
   ]
  },
  {
   "cell_type": "code",
   "execution_count": 87,
   "id": "1f2e7714-32f2-4fbc-8ac3-b67a53d8346e",
   "metadata": {},
   "outputs": [
    {
     "name": "stdout",
     "output_type": "stream",
     "text": [
      "(1706, 15)\n",
      "(1706,)\n",
      "(1133, 15)\n",
      "(1133,)\n"
     ]
    }
   ],
   "source": [
    "print(x_train.shape)\n",
    "print(y_train.shape)\n",
    "print(x_test.shape)\n",
    "print(y_test.shape)"
   ]
  },
  {
   "cell_type": "code",
   "execution_count": 88,
   "id": "02a5f11d-174b-4b9a-95df-0e4da5eae693",
   "metadata": {},
   "outputs": [],
   "source": [
    "x_train = np.reshape(x_train, (x_train.shape[0], 1, x_train.shape[1]))\n",
    "x_test = np.reshape(x_test, (x_test.shape[0], 1, x_test.shape[1]))"
   ]
  },
  {
   "cell_type": "code",
   "execution_count": 89,
   "id": "0708f050-3fc2-4148-80bb-94f9c4dabcc2",
   "metadata": {},
   "outputs": [
    {
     "name": "stdout",
     "output_type": "stream",
     "text": [
      "(1706, 1, 15)\n",
      "(1706,)\n",
      "(1133, 1, 15)\n",
      "(1133,)\n"
     ]
    }
   ],
   "source": [
    "print(x_train.shape)\n",
    "print(y_train.shape)\n",
    "print(x_test.shape)\n",
    "print(y_test.shape)"
   ]
  },
  {
   "cell_type": "code",
   "execution_count": 93,
   "id": "c1796773-4ca2-4429-8f00-6eb79b0fe184",
   "metadata": {},
   "outputs": [
    {
     "name": "stdout",
     "output_type": "stream",
     "text": [
      "Epoch 1/20\n"
     ]
    },
    {
     "name": "stderr",
     "output_type": "stream",
     "text": [
      "C:\\Users\\kalyan\\miniconda3\\Lib\\site-packages\\keras\\src\\layers\\rnn\\rnn.py:204: UserWarning: Do not pass an `input_shape`/`input_dim` argument to a layer. When using Sequential models, prefer using an `Input(shape)` object as the first layer in the model instead.\n",
      "  super().__init__(**kwargs)\n"
     ]
    },
    {
     "name": "stdout",
     "output_type": "stream",
     "text": [
      "1706/1706 - 3s - 2ms/step - loss: 0.0014\n",
      "Epoch 2/20\n",
      "1706/1706 - 2s - 996us/step - loss: 4.6124e-04\n",
      "Epoch 3/20\n",
      "1706/1706 - 2s - 1ms/step - loss: 4.2164e-04\n",
      "Epoch 4/20\n",
      "1706/1706 - 2s - 997us/step - loss: 4.2739e-04\n",
      "Epoch 5/20\n",
      "1706/1706 - 2s - 1ms/step - loss: 3.9014e-04\n",
      "Epoch 6/20\n",
      "1706/1706 - 2s - 987us/step - loss: 3.9002e-04\n",
      "Epoch 7/20\n",
      "1706/1706 - 2s - 1ms/step - loss: 4.0644e-04\n",
      "Epoch 8/20\n",
      "1706/1706 - 2s - 1ms/step - loss: 3.6791e-04\n",
      "Epoch 9/20\n",
      "1706/1706 - 2s - 1ms/step - loss: 3.4394e-04\n",
      "Epoch 10/20\n",
      "1706/1706 - 2s - 1ms/step - loss: 3.8105e-04\n",
      "Epoch 11/20\n",
      "1706/1706 - 2s - 1ms/step - loss: 3.2311e-04\n",
      "Epoch 12/20\n",
      "1706/1706 - 2s - 1ms/step - loss: 3.4204e-04\n",
      "Epoch 13/20\n",
      "1706/1706 - 2s - 1ms/step - loss: 3.5432e-04\n",
      "Epoch 14/20\n",
      "1706/1706 - 2s - 990us/step - loss: 3.7624e-04\n",
      "Epoch 15/20\n",
      "1706/1706 - 2s - 1ms/step - loss: 3.6806e-04\n",
      "Epoch 16/20\n",
      "1706/1706 - 2s - 1ms/step - loss: 3.4582e-04\n",
      "Epoch 17/20\n",
      "1706/1706 - 2s - 1ms/step - loss: 3.2276e-04\n",
      "Epoch 18/20\n",
      "1706/1706 - 2s - 1ms/step - loss: 3.2663e-04\n",
      "Epoch 19/20\n",
      "1706/1706 - 2s - 1ms/step - loss: 3.1759e-04\n",
      "Epoch 20/20\n",
      "1706/1706 - 2s - 1ms/step - loss: 3.6390e-04\n"
     ]
    },
    {
     "data": {
      "text/plain": [
       "<keras.src.callbacks.history.History at 0x20c62b7d550>"
      ]
     },
     "execution_count": 93,
     "metadata": {},
     "output_type": "execute_result"
    }
   ],
   "source": [
    "# create and fit the LSTM network\n",
    "look_back = 15\n",
    "model = Sequential()\n",
    "model.add(LSTM(20, input_shape=(1, look_back)))\n",
    "model.add(Dense(1))\n",
    "model.compile(loss='mean_squared_error', optimizer='lion')\n",
    "model.fit(x_train, y_train, epochs=20, batch_size=1, verbose=2)"
   ]
  },
  {
   "cell_type": "code",
   "execution_count": 94,
   "id": "f08a5e31-826d-4e23-bab0-e5f8a5ae08ae",
   "metadata": {},
   "outputs": [
    {
     "name": "stdout",
     "output_type": "stream",
     "text": [
      "\u001b[1m54/54\u001b[0m \u001b[32m━━━━━━━━━━━━━━━━━━━━\u001b[0m\u001b[37m\u001b[0m \u001b[1m0s\u001b[0m 5ms/step\n",
      "\u001b[1m36/36\u001b[0m \u001b[32m━━━━━━━━━━━━━━━━━━━━\u001b[0m\u001b[37m\u001b[0m \u001b[1m0s\u001b[0m 2ms/step\n",
      "Train Score: 255.03 RMSE\n",
      "Test Score: 126.27 RMSE\n"
     ]
    }
   ],
   "source": [
    "trainPredict = model.predict(x_train)\n",
    "testPredict = model.predict(x_test)\n",
    "# invert predictions\n",
    "trainPredict = min_max_scaler.inverse_transform(trainPredict)\n",
    "trainY = min_max_scaler.inverse_transform([y_train])\n",
    "testPredict = min_max_scaler.inverse_transform(testPredict)\n",
    "testY = min_max_scaler.inverse_transform([y_test])\n",
    "# calculate root mean squared error\n",
    "trainScore = math.sqrt(mean_squared_error(trainY[0], trainPredict[:,0]))\n",
    "print('Train Score: %.2f RMSE' % (trainScore))\n",
    "testScore = math.sqrt(mean_squared_error(testY[0], testPredict[:,0]))\n",
    "print('Test Score: %.2f RMSE' % (testScore))"
   ]
  },
  {
   "cell_type": "code",
   "execution_count": 95,
   "id": "8ec81572-95dc-4515-99e1-83639e4af08b",
   "metadata": {},
   "outputs": [
    {
     "data": {
      "image/png": "[encoded data removed]",
      "text/plain": [
       "<Figure size 640x480 with 1 Axes>"
      ]
     },
     "metadata": {},
     "output_type": "display_data"
    }
   ],
   "source": [
    "# shift train predictions for plotting\n",
    "trainPredictPlot = np.empty_like(dataset)\n",
    "trainPredictPlot[:, :] = np.nan\n",
    "trainPredictPlot[look_back:len(trainPredict)+look_back, :] = trainPredict\n",
    "# shift test predictions for plotting\n",
    "testPredictPlot = np.empty_like(dataset)\n",
    "testPredictPlot[:, :] = np.nan\n",
    "testPredictPlot[len(trainPredict)+(look_back*2)+1:len(dataset)-1, :] = testPredict\n",
    "# plot baseline and predictions\n",
    "plt.plot(min_max_scaler.inverse_transform(dataset))\n",
    "plt.plot(trainPredictPlot)\n",
    "plt.plot(testPredictPlot)\n",
    "plt.show()"
   ]
  },
  {
   "cell_type": "code",
   "execution_count": null,
   "id": "d21a6f1a-d25d-4f9f-9fa6-1c9e5d1524a5",
   "metadata": {},
   "outputs": [],
   "source": []
  }
 ],
 "metadata": {
  "kernelspec": {
   "display_name": "Python 3 (ipykernel)",
   "language": "python",
   "name": "python3"
  },
  "language_info": {
   "codemirror_mode": {
    "name": "ipython",
    "version": 3
   },
   "file_extension": ".py",
   "mimetype": "text/x-python",
   "name": "python",
   "nbconvert_exporter": "python",
   "pygments_lexer": "ipython3",
   "version": "3.11.5"
  }
 },
 "nbformat": 4,
 "nbformat_minor": 5
}
